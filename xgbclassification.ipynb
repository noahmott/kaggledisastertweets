{
    "cells": [
        {
            "cell_type": "code",
            "execution_count": 2,
            "source": [
                "#cleaning data process.\r\n",
                "import nltk\r\n",
                "nltk.download('stopwords')\r\n",
                "from nltk.corpus import stopwords\r\n",
                "import urllib\r\n",
                "import requests\r\n",
                "import pymongo\r\n",
                "from bs4 import BeautifulSoup as bs1\r\n",
                "import pandas as pd\r\n",
                "from nltk.tokenize import word_tokenize\r\n",
                "from nltk import FreqDist\r\n",
                "import seaborn as sbn\r\n",
                "from textblob import TextBlob, Word, Blobber\r\n",
                "from nltk.stem import PorterStemmer\r\n",
                "st = PorterStemmer()"
            ],
            "outputs": [
                {
                    "output_type": "stream",
                    "name": "stderr",
                    "text": [
                        "[nltk_data] Downloading package stopwords to\n",
                        "[nltk_data]     C:\\Users\\noahm\\AppData\\Roaming\\nltk_data...\n",
                        "[nltk_data]   Package stopwords is already up-to-date!\n"
                    ]
                }
            ],
            "metadata": {}
        },
        {
            "cell_type": "code",
            "execution_count": 3,
            "source": [
                "def clean(txt):\r\n",
                "    txt = txt.str.replace(\"(<br/>)\", \"\")\r\n",
                "    txt = txt.str.replace('(<a).*(>).*(</a>)', '')\r\n",
                "    txt = txt.str.replace('(&amp)', '')\r\n",
                "    txt = txt.str.replace('(&gt)', '')\r\n",
                "    txt = txt.str.replace('(&lt)', '')\r\n",
                "    txt = txt.str.replace('(\\xa0)', ' ')  \r\n",
                "    return txt"
            ],
            "outputs": [],
            "metadata": {}
        },
        {
            "cell_type": "code",
            "execution_count": 4,
            "source": [
                "mydata=pd.read_csv('train.csv')"
            ],
            "outputs": [],
            "metadata": {}
        },
        {
            "cell_type": "code",
            "execution_count": 5,
            "source": [
                "mydata.head()"
            ],
            "outputs": [
                {
                    "output_type": "execute_result",
                    "data": {
                        "text/plain": [
                            "   id keyword location                                               text  \\\n",
                            "0   1     NaN      NaN  Our Deeds are the Reason of this #earthquake M...   \n",
                            "1   4     NaN      NaN             Forest fire near La Ronge Sask. Canada   \n",
                            "2   5     NaN      NaN  All residents asked to 'shelter in place' are ...   \n",
                            "3   6     NaN      NaN  13,000 people receive #wildfires evacuation or...   \n",
                            "4   7     NaN      NaN  Just got sent this photo from Ruby #Alaska as ...   \n",
                            "\n",
                            "   target  \n",
                            "0       1  \n",
                            "1       1  \n",
                            "2       1  \n",
                            "3       1  \n",
                            "4       1  "
                        ],
                        "text/html": [
                            "<div>\n",
                            "<style scoped>\n",
                            "    .dataframe tbody tr th:only-of-type {\n",
                            "        vertical-align: middle;\n",
                            "    }\n",
                            "\n",
                            "    .dataframe tbody tr th {\n",
                            "        vertical-align: top;\n",
                            "    }\n",
                            "\n",
                            "    .dataframe thead th {\n",
                            "        text-align: right;\n",
                            "    }\n",
                            "</style>\n",
                            "<table border=\"1\" class=\"dataframe\">\n",
                            "  <thead>\n",
                            "    <tr style=\"text-align: right;\">\n",
                            "      <th></th>\n",
                            "      <th>id</th>\n",
                            "      <th>keyword</th>\n",
                            "      <th>location</th>\n",
                            "      <th>text</th>\n",
                            "      <th>target</th>\n",
                            "    </tr>\n",
                            "  </thead>\n",
                            "  <tbody>\n",
                            "    <tr>\n",
                            "      <th>0</th>\n",
                            "      <td>1</td>\n",
                            "      <td>NaN</td>\n",
                            "      <td>NaN</td>\n",
                            "      <td>Our Deeds are the Reason of this #earthquake M...</td>\n",
                            "      <td>1</td>\n",
                            "    </tr>\n",
                            "    <tr>\n",
                            "      <th>1</th>\n",
                            "      <td>4</td>\n",
                            "      <td>NaN</td>\n",
                            "      <td>NaN</td>\n",
                            "      <td>Forest fire near La Ronge Sask. Canada</td>\n",
                            "      <td>1</td>\n",
                            "    </tr>\n",
                            "    <tr>\n",
                            "      <th>2</th>\n",
                            "      <td>5</td>\n",
                            "      <td>NaN</td>\n",
                            "      <td>NaN</td>\n",
                            "      <td>All residents asked to 'shelter in place' are ...</td>\n",
                            "      <td>1</td>\n",
                            "    </tr>\n",
                            "    <tr>\n",
                            "      <th>3</th>\n",
                            "      <td>6</td>\n",
                            "      <td>NaN</td>\n",
                            "      <td>NaN</td>\n",
                            "      <td>13,000 people receive #wildfires evacuation or...</td>\n",
                            "      <td>1</td>\n",
                            "    </tr>\n",
                            "    <tr>\n",
                            "      <th>4</th>\n",
                            "      <td>7</td>\n",
                            "      <td>NaN</td>\n",
                            "      <td>NaN</td>\n",
                            "      <td>Just got sent this photo from Ruby #Alaska as ...</td>\n",
                            "      <td>1</td>\n",
                            "    </tr>\n",
                            "  </tbody>\n",
                            "</table>\n",
                            "</div>"
                        ]
                    },
                    "metadata": {},
                    "execution_count": 5
                }
            ],
            "metadata": {}
        },
        {
            "cell_type": "code",
            "execution_count": 6,
            "source": [
                "mydata['text'].astype(str)"
            ],
            "outputs": [
                {
                    "output_type": "execute_result",
                    "data": {
                        "text/plain": [
                            "0       Our Deeds are the Reason of this #earthquake M...\n",
                            "1                  Forest fire near La Ronge Sask. Canada\n",
                            "2       All residents asked to 'shelter in place' are ...\n",
                            "3       13,000 people receive #wildfires evacuation or...\n",
                            "4       Just got sent this photo from Ruby #Alaska as ...\n",
                            "                              ...                        \n",
                            "7608    Two giant cranes holding a bridge collapse int...\n",
                            "7609    @aria_ahrary @TheTawniest The out of control w...\n",
                            "7610    M1.94 [01:04 UTC]?5km S of Volcano Hawaii. htt...\n",
                            "7611    Police investigating after an e-bike collided ...\n",
                            "7612    The Latest: More Homes Razed by Northern Calif...\n",
                            "Name: text, Length: 7613, dtype: object"
                        ]
                    },
                    "metadata": {},
                    "execution_count": 6
                }
            ],
            "metadata": {}
        },
        {
            "cell_type": "code",
            "execution_count": 7,
            "source": [
                "mydata=mydata[~mydata['text'].isnull()]"
            ],
            "outputs": [],
            "metadata": {}
        },
        {
            "cell_type": "code",
            "execution_count": 8,
            "source": [
                "mydata['text']=clean(mydata['text'])\r\n",
                "\r\n",
                "mydata['cleaned'] = mydata['text'].apply(lambda x: \" \".join(x.lower() for x in x.split()))\r\n",
                "mydata['cleaned'] = mydata['cleaned'].str.replace('[^\\w\\s]', '')\r\n",
                "\r\n",
                "\r\n",
                "stop = stopwords.words('english')\r\n",
                "mydata['cleaned'] = mydata['cleaned'].apply(lambda x: \" \".join(x for x in x.split() if x not in stop))\r\n"
            ],
            "outputs": [
                {
                    "output_type": "stream",
                    "name": "stderr",
                    "text": [
                        "<ipython-input-3-2deb8f962941>:2: FutureWarning: The default value of regex will change from True to False in a future version.\n",
                        "  txt = txt.str.replace(\"(<br/>)\", \"\")\n",
                        "<ipython-input-3-2deb8f962941>:3: FutureWarning: The default value of regex will change from True to False in a future version.\n",
                        "  txt = txt.str.replace('(<a).*(>).*(</a>)', '')\n",
                        "<ipython-input-3-2deb8f962941>:4: FutureWarning: The default value of regex will change from True to False in a future version.\n",
                        "  txt = txt.str.replace('(&amp)', '')\n",
                        "<ipython-input-3-2deb8f962941>:5: FutureWarning: The default value of regex will change from True to False in a future version.\n",
                        "  txt = txt.str.replace('(&gt)', '')\n",
                        "<ipython-input-3-2deb8f962941>:6: FutureWarning: The default value of regex will change from True to False in a future version.\n",
                        "  txt = txt.str.replace('(&lt)', '')\n",
                        "<ipython-input-3-2deb8f962941>:7: FutureWarning: The default value of regex will change from True to False in a future version.\n",
                        "  txt = txt.str.replace('(\\xa0)', ' ')\n"
                    ]
                }
            ],
            "metadata": {}
        },
        {
            "cell_type": "code",
            "execution_count": 9,
            "source": [
                "from nltk.stem import PorterStemmer\r\n",
                "st = PorterStemmer()\r\n",
                "mydata['cleaned'] = mydata['cleaned'].apply(lambda x: \" \".join([st.stem(word) for word in x.split()]))"
            ],
            "outputs": [],
            "metadata": {}
        },
        {
            "cell_type": "code",
            "execution_count": 10,
            "source": [
                "mydata.head()"
            ],
            "outputs": [
                {
                    "output_type": "execute_result",
                    "data": {
                        "text/plain": [
                            "   id keyword location                                               text  \\\n",
                            "0   1     NaN      NaN  Our Deeds are the Reason of this #earthquake M...   \n",
                            "1   4     NaN      NaN             Forest fire near La Ronge Sask. Canada   \n",
                            "2   5     NaN      NaN  All residents asked to 'shelter in place' are ...   \n",
                            "3   6     NaN      NaN  13,000 people receive #wildfires evacuation or...   \n",
                            "4   7     NaN      NaN  Just got sent this photo from Ruby #Alaska as ...   \n",
                            "\n",
                            "   target                                            cleaned  \n",
                            "0       1          deed reason earthquak may allah forgiv us  \n",
                            "1       1               forest fire near la rong sask canada  \n",
                            "2       1  resid ask shelter place notifi offic evacu she...  \n",
                            "3       1  13000 peopl receiv wildfir evacu order california  \n",
                            "4       1  got sent photo rubi alaska smoke wildfir pour ...  "
                        ],
                        "text/html": [
                            "<div>\n",
                            "<style scoped>\n",
                            "    .dataframe tbody tr th:only-of-type {\n",
                            "        vertical-align: middle;\n",
                            "    }\n",
                            "\n",
                            "    .dataframe tbody tr th {\n",
                            "        vertical-align: top;\n",
                            "    }\n",
                            "\n",
                            "    .dataframe thead th {\n",
                            "        text-align: right;\n",
                            "    }\n",
                            "</style>\n",
                            "<table border=\"1\" class=\"dataframe\">\n",
                            "  <thead>\n",
                            "    <tr style=\"text-align: right;\">\n",
                            "      <th></th>\n",
                            "      <th>id</th>\n",
                            "      <th>keyword</th>\n",
                            "      <th>location</th>\n",
                            "      <th>text</th>\n",
                            "      <th>target</th>\n",
                            "      <th>cleaned</th>\n",
                            "    </tr>\n",
                            "  </thead>\n",
                            "  <tbody>\n",
                            "    <tr>\n",
                            "      <th>0</th>\n",
                            "      <td>1</td>\n",
                            "      <td>NaN</td>\n",
                            "      <td>NaN</td>\n",
                            "      <td>Our Deeds are the Reason of this #earthquake M...</td>\n",
                            "      <td>1</td>\n",
                            "      <td>deed reason earthquak may allah forgiv us</td>\n",
                            "    </tr>\n",
                            "    <tr>\n",
                            "      <th>1</th>\n",
                            "      <td>4</td>\n",
                            "      <td>NaN</td>\n",
                            "      <td>NaN</td>\n",
                            "      <td>Forest fire near La Ronge Sask. Canada</td>\n",
                            "      <td>1</td>\n",
                            "      <td>forest fire near la rong sask canada</td>\n",
                            "    </tr>\n",
                            "    <tr>\n",
                            "      <th>2</th>\n",
                            "      <td>5</td>\n",
                            "      <td>NaN</td>\n",
                            "      <td>NaN</td>\n",
                            "      <td>All residents asked to 'shelter in place' are ...</td>\n",
                            "      <td>1</td>\n",
                            "      <td>resid ask shelter place notifi offic evacu she...</td>\n",
                            "    </tr>\n",
                            "    <tr>\n",
                            "      <th>3</th>\n",
                            "      <td>6</td>\n",
                            "      <td>NaN</td>\n",
                            "      <td>NaN</td>\n",
                            "      <td>13,000 people receive #wildfires evacuation or...</td>\n",
                            "      <td>1</td>\n",
                            "      <td>13000 peopl receiv wildfir evacu order california</td>\n",
                            "    </tr>\n",
                            "    <tr>\n",
                            "      <th>4</th>\n",
                            "      <td>7</td>\n",
                            "      <td>NaN</td>\n",
                            "      <td>NaN</td>\n",
                            "      <td>Just got sent this photo from Ruby #Alaska as ...</td>\n",
                            "      <td>1</td>\n",
                            "      <td>got sent photo rubi alaska smoke wildfir pour ...</td>\n",
                            "    </tr>\n",
                            "  </tbody>\n",
                            "</table>\n",
                            "</div>"
                        ]
                    },
                    "metadata": {},
                    "execution_count": 10
                }
            ],
            "metadata": {}
        },
        {
            "cell_type": "code",
            "execution_count": 17,
            "source": [
                "from sklearn.model_selection import train_test_split\r\n",
                "import config\r\n",
                "import xgboost as xgb\r\n",
                "from sklearn.model_selection import cross_val_score\r\n",
                "from sklearn import model_selection\r\n",
                "from sklearn.model_selection import KFold\r\n",
                "from sklearn.feature_extraction.text import CountVectorizer\r\n",
                "from sklearn.metrics import accuracy_score"
            ],
            "outputs": [],
            "metadata": {}
        },
        {
            "cell_type": "code",
            "execution_count": 12,
            "source": [
                "X_train, X_test, y_train, y_test = train_test_split(mydata.cleaned, mydata.target, test_size=0.2, random_state=0)\r\n",
                "count_vec = CountVectorizer()"
            ],
            "outputs": [],
            "metadata": {}
        },
        {
            "cell_type": "code",
            "execution_count": 13,
            "source": [
                "train_vecs = count_vec.fit_transform(X_train)\r\n",
                "test_vecs = count_vec.transform(X_test)\r\n",
                "train=xgb.DMatrix(train_vecs, label=y_train)\r\n",
                "test=xgb.DMatrix(test_vecs, label=y_test)"
            ],
            "outputs": [],
            "metadata": {}
        },
        {
            "cell_type": "code",
            "execution_count": 14,
            "source": [
                "param={\r\n",
                "    'max_depth':6,\r\n",
                "    'eta': 0.3,\r\n",
                "    'objective': 'multi:softmax',\r\n",
                "    'num_class' : 2,\r\n",
                "    'verbosity':0\r\n",
                "}\r\n",
                "epochs=1000"
            ],
            "outputs": [],
            "metadata": {}
        },
        {
            "cell_type": "code",
            "execution_count": 15,
            "source": [
                "model = xgb.train(param, train, epochs)"
            ],
            "outputs": [],
            "metadata": {}
        },
        {
            "cell_type": "code",
            "execution_count": 18,
            "source": [
                "predictions=model.predict(test)\r\n",
                "n1=accuracy_score(y_test, predictions)"
            ],
            "outputs": [],
            "metadata": {}
        },
        {
            "cell_type": "code",
            "execution_count": 19,
            "source": [
                "model2=xgb.XGBClassifier(use_label_encoder=False, verbosity = 0)\r\n",
                "kfold = KFold(n_splits=10, random_state=7, shuffle=True)\r\n",
                "results = cross_val_score(model2, train_vecs, y_train, cv=kfold)\r\n",
                "model2.fit(train_vecs, y_train)"
            ],
            "outputs": [
                {
                    "output_type": "execute_result",
                    "data": {
                        "text/plain": [
                            "XGBClassifier(base_score=0.5, booster='gbtree', colsample_bylevel=1,\n",
                            "              colsample_bynode=1, colsample_bytree=1, gamma=0, gpu_id=-1,\n",
                            "              importance_type='gain', interaction_constraints='',\n",
                            "              learning_rate=0.300000012, max_delta_step=0, max_depth=6,\n",
                            "              min_child_weight=1, missing=nan, monotone_constraints='()',\n",
                            "              n_estimators=100, n_jobs=8, num_parallel_tree=1, random_state=0,\n",
                            "              reg_alpha=0, reg_lambda=1, scale_pos_weight=1, subsample=1,\n",
                            "              tree_method='exact', use_label_encoder=False,\n",
                            "              validate_parameters=1, verbosity=0)"
                        ]
                    },
                    "metadata": {},
                    "execution_count": 19
                }
            ],
            "metadata": {}
        },
        {
            "cell_type": "code",
            "execution_count": 20,
            "source": [
                "predictions2=model2.predict(test_vecs)"
            ],
            "outputs": [],
            "metadata": {}
        },
        {
            "cell_type": "code",
            "execution_count": 21,
            "source": [
                "#model 2 with stratified cross validation\r\n",
                "from sklearn.model_selection import StratifiedKFold\r\n",
                "kfold = StratifiedKFold(n_splits=10, random_state=7, shuffle=True)\r\n",
                "results2 = cross_val_score(model2, train_vecs, y_train, cv=kfold)"
            ],
            "outputs": [],
            "metadata": {}
        },
        {
            "cell_type": "code",
            "execution_count": 22,
            "source": [
                "print(\"Accuracy: %.2f%%\" % (n1*100))\r\n",
                "print(\"Accuracy: %.2f%%\" % (results2.mean()*100))\r\n",
                "print(\"Accuracy: %.2f%%\" % (results.mean()*100))"
            ],
            "outputs": [
                {
                    "output_type": "stream",
                    "name": "stdout",
                    "text": [
                        "Accuracy: 79.51%\n",
                        "Accuracy: 78.59%\n",
                        "Accuracy: 78.05%\n"
                    ]
                }
            ],
            "metadata": {}
        },
        {
            "cell_type": "code",
            "execution_count": 30,
            "source": [
                "comparisondf=pd.DataFrame()\r\n",
                "comparisondf['tweet']=X_test\r\n",
                "comparisondf['actual']=y_test\r\n",
                "comparisondf['predicted']=predictions2"
            ],
            "outputs": [],
            "metadata": {}
        },
        {
            "cell_type": "code",
            "execution_count": 32,
            "source": [
                "comparisondf.head()"
            ],
            "outputs": [
                {
                    "output_type": "execute_result",
                    "data": {
                        "text/plain": [
                            "                                                  tweet  actual  predicted\n",
                            "311   katiekatcub alreadi know shit goe world seri a...       0          0\n",
                            "4970  lemairele danharmon peopl near meltdown comic ...       0          1\n",
                            "527   16 tix calgari flame vs col avalanch preseason...       0          1\n",
                            "6362  ever think run choic life rembr there kid choi...       0          1\n",
                            "800               dotish blight car go right ahead mine       0          0"
                        ],
                        "text/html": [
                            "<div>\n",
                            "<style scoped>\n",
                            "    .dataframe tbody tr th:only-of-type {\n",
                            "        vertical-align: middle;\n",
                            "    }\n",
                            "\n",
                            "    .dataframe tbody tr th {\n",
                            "        vertical-align: top;\n",
                            "    }\n",
                            "\n",
                            "    .dataframe thead th {\n",
                            "        text-align: right;\n",
                            "    }\n",
                            "</style>\n",
                            "<table border=\"1\" class=\"dataframe\">\n",
                            "  <thead>\n",
                            "    <tr style=\"text-align: right;\">\n",
                            "      <th></th>\n",
                            "      <th>tweet</th>\n",
                            "      <th>actual</th>\n",
                            "      <th>predicted</th>\n",
                            "    </tr>\n",
                            "  </thead>\n",
                            "  <tbody>\n",
                            "    <tr>\n",
                            "      <th>311</th>\n",
                            "      <td>katiekatcub alreadi know shit goe world seri a...</td>\n",
                            "      <td>0</td>\n",
                            "      <td>0</td>\n",
                            "    </tr>\n",
                            "    <tr>\n",
                            "      <th>4970</th>\n",
                            "      <td>lemairele danharmon peopl near meltdown comic ...</td>\n",
                            "      <td>0</td>\n",
                            "      <td>1</td>\n",
                            "    </tr>\n",
                            "    <tr>\n",
                            "      <th>527</th>\n",
                            "      <td>16 tix calgari flame vs col avalanch preseason...</td>\n",
                            "      <td>0</td>\n",
                            "      <td>1</td>\n",
                            "    </tr>\n",
                            "    <tr>\n",
                            "      <th>6362</th>\n",
                            "      <td>ever think run choic life rembr there kid choi...</td>\n",
                            "      <td>0</td>\n",
                            "      <td>1</td>\n",
                            "    </tr>\n",
                            "    <tr>\n",
                            "      <th>800</th>\n",
                            "      <td>dotish blight car go right ahead mine</td>\n",
                            "      <td>0</td>\n",
                            "      <td>0</td>\n",
                            "    </tr>\n",
                            "  </tbody>\n",
                            "</table>\n",
                            "</div>"
                        ]
                    },
                    "metadata": {},
                    "execution_count": 32
                }
            ],
            "metadata": {}
        }
    ],
    "metadata": {
        "orig_nbformat": 4,
        "language_info": {
            "name": "python",
            "version": "3.9.6",
            "mimetype": "text/x-python",
            "codemirror_mode": {
                "name": "ipython",
                "version": 3
            },
            "pygments_lexer": "ipython3",
            "nbconvert_exporter": "python",
            "file_extension": ".py"
        },
        "kernelspec": {
            "name": "python3",
            "display_name": "Python 3.9.6 64-bit (windows store)"
        },
        "interpreter": {
            "hash": "ba79030c872711e67c59c663100b6928dc49159fbb1ddb8749ef300a1826211b"
        }
    },
    "nbformat": 4,
    "nbformat_minor": 2
}